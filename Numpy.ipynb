{
 "cells": [
  {
   "cell_type": "markdown",
   "id": "1840da0a",
   "metadata": {},
   "source": [
    "Numpy :--\n",
    "    NumPy is the core library for scientific computing in Python. It provides a high\u0002performance multidimensional array object, and tools for working with these arrays. It’s a \n",
    "successor of Numeric package"
   ]
  },
  {
   "cell_type": "code",
   "execution_count": 2,
   "id": "aafb36e1",
   "metadata": {},
   "outputs": [
    {
     "name": "stdout",
     "output_type": "stream",
     "text": [
      "[1 2 3 4 5]\n"
     ]
    }
   ],
   "source": [
    "# Code for Initializing the numpy array :--\n",
    "import numpy as np\n",
    "a = np.array([1,2,3,4,5])\n",
    "print(a)\n"
   ]
  },
  {
   "cell_type": "code",
   "execution_count": 4,
   "id": "6e038e42",
   "metadata": {},
   "outputs": [
    {
     "name": "stdout",
     "output_type": "stream",
     "text": [
      "(5,)\n",
      "1\n",
      "2\n",
      "3\n"
     ]
    }
   ],
   "source": [
    "# Code to print the dimension of an array:-\n",
    "print(a.shape)\n",
    "print(a[0])\n",
    "print(a[1])\n",
    "print(a[2])\n",
    "\n"
   ]
  },
  {
   "cell_type": "code",
   "execution_count": 5,
   "id": "7142e27c",
   "metadata": {},
   "outputs": [
    {
     "name": "stdout",
     "output_type": "stream",
     "text": [
      "[ 5 10  3  4  5]\n"
     ]
    }
   ],
   "source": [
    "#Change the element of an array:-\n",
    "a[0]=5\n",
    "a[1]=10\n",
    "print(a)\n"
   ]
  },
  {
   "cell_type": "code",
   "execution_count": 8,
   "id": "3fae89a6",
   "metadata": {},
   "outputs": [
    {
     "name": "stdout",
     "output_type": "stream",
     "text": [
      "[[1 2 3 4 5]\n",
      " [6 7 8 9 0]]\n",
      "(2, 5)\n",
      "[[1 2 3 4 5]\n",
      " [6 7 8 9 0]]\n",
      "1 2 6 7\n"
     ]
    }
   ],
   "source": [
    "#Create a rank of two array\n",
    "b = np.array([[1,2,3,4,5],[6,7,8,9,0]])\n",
    "print(b)\n",
    "print(b.shape)\n",
    "print(b)\n",
    "print(b[0,0] ,b[0,1],b[1,0],b[1,1])\n"
   ]
  },
  {
   "cell_type": "markdown",
   "id": "8f3c85b9",
   "metadata": {},
   "source": [
    "Creating the numpy matrices"
   ]
  },
  {
   "cell_type": "code",
   "execution_count": 11,
   "id": "2d2989c0",
   "metadata": {},
   "outputs": [
    {
     "name": "stdout",
     "output_type": "stream",
     "text": [
      "[[0. 0. 0.]\n",
      " [0. 0. 0.]\n",
      " [0. 0. 0.]]\n"
     ]
    }
   ],
   "source": [
    "#create a 3x3 array of all zeroes\n",
    "a = np.zeros((3,3))\n",
    "print(a)\n"
   ]
  },
  {
   "cell_type": "code",
   "execution_count": 12,
   "id": "592976ee",
   "metadata": {},
   "outputs": [
    {
     "name": "stdout",
     "output_type": "stream",
     "text": [
      "[[1. 1.]\n",
      " [1. 1.]]\n"
     ]
    }
   ],
   "source": [
    "#Creating a 2x2 array of all ones\n",
    "a = np.ones((2,2))\n",
    "print(a)\n"
   ]
  },
  {
   "cell_type": "code",
   "execution_count": 14,
   "id": "1fe09ddd",
   "metadata": {},
   "outputs": [
    {
     "name": "stdout",
     "output_type": "stream",
     "text": [
      "[[7 7 7]\n",
      " [7 7 7]\n",
      " [7 7 7]]\n"
     ]
    }
   ],
   "source": [
    "#creating a 3x3 constant array\n",
    "c = np.full((3,3),7)\n",
    "print(c)\n"
   ]
  },
  {
   "cell_type": "code",
   "execution_count": 17,
   "id": "3a34b0fd",
   "metadata": {},
   "outputs": [
    {
     "name": "stdout",
     "output_type": "stream",
     "text": [
      "[[0.33213028 0.68203767 0.74691108]\n",
      " [0.64283599 0.10260097 0.34487311]\n",
      " [0.61703012 0.33219168 0.75872704]]\n"
     ]
    }
   ],
   "source": [
    "#create a 3x3 array filled with random values\n",
    "d = np.random.random((3 ,3))\n",
    "print(d)\n"
   ]
  },
  {
   "cell_type": "code",
   "execution_count": 18,
   "id": "31cdc2cc",
   "metadata": {},
   "outputs": [
    {
     "name": "stdout",
     "output_type": "stream",
     "text": [
      "[[1. 0. 0.]\n",
      " [0. 1. 0.]\n",
      " [0. 0. 1.]]\n"
     ]
    }
   ],
   "source": [
    "#Create a 3x3 identity matrix\n",
    "e = np.eye(3)\n",
    "print(e)\n"
   ]
  },
  {
   "cell_type": "code",
   "execution_count": 19,
   "id": "f5c8bcef",
   "metadata": {},
   "outputs": [
    {
     "name": "stdout",
     "output_type": "stream",
     "text": [
      "[1 2 3 4 5]\n"
     ]
    }
   ],
   "source": [
    "#Convert list to an array\n",
    "f = np.array([1,2,3,4,5])\n",
    "print(f)\n"
   ]
  },
  {
   "cell_type": "code",
   "execution_count": 21,
   "id": "e312b485",
   "metadata": {},
   "outputs": [
    {
     "name": "stdout",
     "output_type": "stream",
     "text": [
      "[ 0  1  2  3  4  5  6  7  8  9 10 11 12 13 14 15 16 17 18 19 20 21 22 23\n",
      " 24 25 26 27 28 29 30 31 32 33 34 35 36 37 38 39 40 41 42 43 44 45 46 47\n",
      " 48 49]\n"
     ]
    }
   ],
   "source": [
    "#arange() will create arrays with regularly incrementing values\n",
    "g = np.arange(50)\n",
    "print(g)\n"
   ]
  },
  {
   "cell_type": "code",
   "execution_count": 23,
   "id": "67ca4ba3",
   "metadata": {},
   "outputs": [
    {
     "name": "stdout",
     "output_type": "stream",
     "text": [
      "[[1.+0.j 2.+0.j 3.+0.j 4.+0.j]\n",
      " [5.+0.j 6.+0.j 8.+0.j 3.+0.j]\n",
      " [1.+1.j 2.+0.j 3.+0.j 2.+0.j]]\n"
     ]
    }
   ],
   "source": [
    "#Creating an array of tuples and lists\n",
    "h = np.array([[1,2,3,4.0],[5.0,6.0,8,3.0],(1+1j , 2. , 3. ,2.)])\n",
    "print(h)\n"
   ]
  },
  {
   "cell_type": "code",
   "execution_count": 36,
   "id": "491979ee",
   "metadata": {},
   "outputs": [
    {
     "name": "stdout",
     "output_type": "stream",
     "text": [
      "[0.  0.5 1.  1.5 2.  2.5 3.  3.5 4. ]\n"
     ]
    }
   ],
   "source": [
    "#Create an array of range with float datatypes\n",
    "i =np.arange(0, 4.5 , 0.5)\n",
    "\n",
    "\n",
    "print(i)\n"
   ]
  },
  {
   "cell_type": "code",
   "execution_count": 29,
   "id": "b495d051",
   "metadata": {},
   "outputs": [
    {
     "name": "stdout",
     "output_type": "stream",
     "text": [
      "[2.  2.5 3.  3.5 4. ]\n"
     ]
    }
   ],
   "source": [
    "# linspace() will create arrays with a specified number of items which are\n",
    "# spaced equally between the specified beginning and end values\n",
    "\n",
    "j = np.linspace(2. ,4. , 5)\n",
    "print(j)\n"
   ]
  },
  {
   "cell_type": "code",
   "execution_count": 34,
   "id": "3b9e28c8",
   "metadata": {},
   "outputs": [
    {
     "name": "stdout",
     "output_type": "stream",
     "text": [
      "[[[0 0]\n",
      "  [1 1]]\n",
      "\n",
      " [[0 1]\n",
      "  [0 1]]]\n",
      "[[[0 0 0]\n",
      "  [1 1 1]\n",
      "  [2 2 2]]\n",
      "\n",
      " [[0 1 2]\n",
      "  [0 1 2]\n",
      "  [0 1 2]]]\n",
      "[[[0 0 0 0]\n",
      "  [1 1 1 1]\n",
      "  [2 2 2 2]\n",
      "  [3 3 3 3]]\n",
      "\n",
      " [[0 1 2 3]\n",
      "  [0 1 2 3]\n",
      "  [0 1 2 3]\n",
      "  [0 1 2 3]]]\n",
      "[[[0 0 0 0 0 0 0 0 0 0]\n",
      "  [1 1 1 1 1 1 1 1 1 1]\n",
      "  [2 2 2 2 2 2 2 2 2 2]\n",
      "  [3 3 3 3 3 3 3 3 3 3]\n",
      "  [4 4 4 4 4 4 4 4 4 4]\n",
      "  [5 5 5 5 5 5 5 5 5 5]\n",
      "  [6 6 6 6 6 6 6 6 6 6]\n",
      "  [7 7 7 7 7 7 7 7 7 7]\n",
      "  [8 8 8 8 8 8 8 8 8 8]\n",
      "  [9 9 9 9 9 9 9 9 9 9]]\n",
      "\n",
      " [[0 1 2 3 4 5 6 7 8 9]\n",
      "  [0 1 2 3 4 5 6 7 8 9]\n",
      "  [0 1 2 3 4 5 6 7 8 9]\n",
      "  [0 1 2 3 4 5 6 7 8 9]\n",
      "  [0 1 2 3 4 5 6 7 8 9]\n",
      "  [0 1 2 3 4 5 6 7 8 9]\n",
      "  [0 1 2 3 4 5 6 7 8 9]\n",
      "  [0 1 2 3 4 5 6 7 8 9]\n",
      "  [0 1 2 3 4 5 6 7 8 9]\n",
      "  [0 1 2 3 4 5 6 7 8 9]]]\n"
     ]
    }
   ],
   "source": [
    "# indices() will create a set of arrays stacked as a one-higher\n",
    "# dimensioned array, one per dimension with each representing variation in that dimension\n",
    "\n",
    "\n",
    "l = np.indices((2,2))\n",
    "print(l)\n",
    "\n",
    "k = np.indices((3,3))\n",
    "print(k)\n",
    "\n",
    "\n",
    "l = np.indices((4,4))\n",
    "print(l)\n",
    "\n",
    "l = np.indices((10,10))\n",
    "print(l)"
   ]
  },
  {
   "cell_type": "code",
   "execution_count": 5,
   "id": "64a45f49",
   "metadata": {},
   "outputs": [
    {
     "name": "stdout",
     "output_type": "stream",
     "text": [
      "[5. 6.]\n",
      "[1. 2.]\n",
      "[1 2]\n"
     ]
    }
   ],
   "source": [
    "#Converison of Datatypes\n",
    "import numpy as np\n",
    "x = np.array([1,2] , dtype = np.float64)\n",
    "y = np.array([1.0,2.0] ,dtype = np.int64)\n",
    "z = np.array([5,6] ,dtype = np.float64)\n",
    "print(z)\n",
    "print(x)\n",
    "print(y)\n",
    "\n"
   ]
  },
  {
   "cell_type": "code",
   "execution_count": 7,
   "id": "88b7c656",
   "metadata": {},
   "outputs": [
    {
     "name": "stdout",
     "output_type": "stream",
     "text": [
      "x[a].shape: (3, 3)\n",
      "x['a'].dtype int32\n",
      "x['b'].shape (3, 3, 3, 3)\n",
      "x['b'].dtype int64\n"
     ]
    }
   ],
   "source": [
    "#Array Indexing \n",
    "\n",
    "#Field Access:---\n",
    "\n",
    "x = np.zeros((3,3) , dtype = [('a' ,np.int32) , ('b' ,np.int64 , (3,3))])\n",
    "print(\"x[a].shape:\" , x['a'].shape)\n",
    "print(\"x['a'].dtype\" , x['a'].dtype)\n",
    "print(\"x['b'].shape\" , x['b'].shape)\n",
    "print(\"x['b'].dtype\" , x['b'].dtype)\n"
   ]
  },
  {
   "cell_type": "code",
   "execution_count": 11,
   "id": "6048a397",
   "metadata": {},
   "outputs": [
    {
     "name": "stdout",
     "output_type": "stream",
     "text": [
      "[6 8]\n",
      "[8 7 9]\n"
     ]
    }
   ],
   "source": [
    "#Basic Slicing:---\n",
    "\n",
    "\n",
    "x = np.array([5,6,8,7,9,4,3,2,1])\n",
    "\n",
    "\n",
    "print(x[1:3])\n",
    "print(x[2:5])\n",
    "\n",
    "\n"
   ]
  },
  {
   "cell_type": "code",
   "execution_count": 10,
   "id": "a22f5229",
   "metadata": {},
   "outputs": [
    {
     "name": "stdout",
     "output_type": "stream",
     "text": [
      "219\n",
      "219\n"
     ]
    }
   ],
   "source": [
    "#We can use the “dot” function to calculate inner products of vectors or to multiply \n",
    "#matrices or multiply a vector by a matrix\n",
    "\n",
    "import numpy as np\n",
    "x = np.array([[1,2,3,4] ,[5,6,7,8]])\n",
    "y = np.array([[8,7,9,5], [4,5,6,8]])\n",
    "\n",
    "a = np.array([9,10])\n",
    "b = np.array([11,12])\n",
    "print(a.dot(b))\n",
    "print(b.dot(a))\n",
    "\n"
   ]
  },
  {
   "cell_type": "code",
   "execution_count": 13,
   "id": "44a89a6b",
   "metadata": {},
   "outputs": [
    {
     "name": "stdout",
     "output_type": "stream",
     "text": [
      "10\n",
      "[4 6]\n",
      "[3 7]\n",
      "[[1 3]\n",
      " [2 4]]\n"
     ]
    }
   ],
   "source": [
    "\n",
    "x=np.array([[1,2],[3,4]])\n",
    "# Compute sum of all elements\n",
    "print (np.sum(x))\n",
    "# Compute sum of each column\n",
    "print (np.sum(x, axis=0))\n",
    "# Compute sum of each row\n",
    "print (np.sum(x, axis=1))\n",
    "\n",
    "print(x.T)  # Find the transpose of a function"
   ]
  },
  {
   "cell_type": "code",
   "execution_count": 15,
   "id": "4c973cf5",
   "metadata": {},
   "outputs": [
    {
     "name": "stdout",
     "output_type": "stream",
     "text": [
      "[[1 2 3]\n",
      " [4 5 6]\n",
      " [7 8 9]]\n",
      "[[ 2  2  4]\n",
      " [ 5  5  7]\n",
      " [ 8  8 10]]\n"
     ]
    }
   ],
   "source": [
    "#Create a Matrix\n",
    "a = np.array([[1,2,3],[4,5,6],[7,8,9]])\n",
    "print(a)\n",
    "\n",
    "#Create a vector\n",
    "v = np.array([1,0,1])\n",
    "\n",
    "#Create a Empty matrix with same shape\n",
    "b = np.empty_like(a)\n",
    "\n",
    "\n",
    "# Add a vector to each row of the matrix\n",
    "for i in range(3):\n",
    "    b[i ,:] = a[i ,:] +v\n",
    "    \n",
    "print(b)\n",
    "\n",
    "\n",
    "\n",
    "\n"
   ]
  },
  {
   "cell_type": "code",
   "execution_count": null,
   "id": "56dc7854",
   "metadata": {},
   "outputs": [],
   "source": []
  }
 ],
 "metadata": {
  "kernelspec": {
   "display_name": "Python 3 (ipykernel)",
   "language": "python",
   "name": "python3"
  },
  "language_info": {
   "codemirror_mode": {
    "name": "ipython",
    "version": 3
   },
   "file_extension": ".py",
   "mimetype": "text/x-python",
   "name": "python",
   "nbconvert_exporter": "python",
   "pygments_lexer": "ipython3",
   "version": "3.9.7"
  }
 },
 "nbformat": 4,
 "nbformat_minor": 5
}
