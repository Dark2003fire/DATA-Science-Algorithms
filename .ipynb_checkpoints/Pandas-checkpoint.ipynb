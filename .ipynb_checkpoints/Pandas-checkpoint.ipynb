{
 "cells": [
  {
   "cell_type": "markdown",
   "id": "23e7e9ab",
   "metadata": {},
   "source": [
    "Python has always been great for data munging; however it was not great for analysis \n",
    "compared to databases using SQL or Excel or R data frames. Pandas are an open source \n",
    "Python package providing fast, flexible, and expressive data structures designed to make \n",
    "working with “relational” or “labeled” data both easy and intuitive"
   ]
  },
  {
   "cell_type": "markdown",
   "id": "93c88869",
   "metadata": {},
   "source": [
    "Data Structures\n",
    "Pandas introduces two new data structures to Python – Series and DataFrame, both of \n",
    "which are built on top of NumPy (this means it’s fast).\n",
    "Series\n",
    "This is a one-dimensional object similar to column in a spreadsheet or SQL table. By \n",
    "default each item will be assigned an index label from 0 to N"
   ]
  },
  {
   "cell_type": "code",
   "execution_count": 1,
   "id": "64b6b4c2",
   "metadata": {},
   "outputs": [
    {
     "name": "stdout",
     "output_type": "stream",
     "text": [
      "A    1.0\n",
      "B    2.0\n",
      "C    3.0\n",
      "D    NaN\n",
      "E    5.0\n",
      "F    6.0\n",
      "dtype: float64\n"
     ]
    }
   ],
   "source": [
    "import pandas as pd\n",
    "import numpy as np\n",
    "ser = pd.Series([1,2,3,np.nan ,5,6] , index = ['A' , 'B' , 'C' , 'D' , 'E', 'F'])\n",
    "print(ser)\n",
    "\n"
   ]
  },
  {
   "cell_type": "code",
   "execution_count": null,
   "id": "555b93c5",
   "metadata": {},
   "outputs": [],
   "source": [
    "# Creating the DataFrame \n",
    "\n",
    "\n",
    "data = {'Name':['Hitesh '  , 'Saifan ' ,'Mohammad'] \n",
    "       'Age' :[20 ,19 ,20] ,\n",
    "       'Address':['Pune' , 'Parvati' , 'Pune']}\n",
    "\n",
    "df = pd.DataFrame(data , columns=['Name' ,'Age', 'Address'])\n",
    "\n",
    "print(df)\n",
    "\n",
    "\n"
   ]
  }
 ],
 "metadata": {
  "kernelspec": {
   "display_name": "Python 3 (ipykernel)",
   "language": "python",
   "name": "python3"
  },
  "language_info": {
   "codemirror_mode": {
    "name": "ipython",
    "version": 3
   },
   "file_extension": ".py",
   "mimetype": "text/x-python",
   "name": "python",
   "nbconvert_exporter": "python",
   "pygments_lexer": "ipython3",
   "version": "3.9.7"
  }
 },
 "nbformat": 4,
 "nbformat_minor": 5
}
