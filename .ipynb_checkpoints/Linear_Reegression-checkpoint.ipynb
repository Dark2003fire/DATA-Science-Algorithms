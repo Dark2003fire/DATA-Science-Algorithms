{
 "cells": [
  {
   "cell_type": "markdown",
   "id": "ecdf5094",
   "metadata": {},
   "source": [
    "\"\"\"\n",
    "Linear regression is a basic predictive analytics technique that uses historical data to predict an output variable.\n",
    "It is popular for predictive modelling because it is easily understood and can be explained using plain English.\n",
    "\n",
    "Linear regression models have many real-world applications in an array of industries such as economics (e.g. predicting growth), business (e.g. predicting product sales, employee performance), social science (e.g. predicting political leanings from gender or race),\n",
    "healthcare (e.g. predicting blood pressure levels from weight, disease onset from biological factors), and more\n",
    "\n",
    "Understanding how to implement linear regression models can unearth stories in data to solve important problems. \n",
    "We’ll use Python as it is a robust tool to handle, process, and model data. It has an array of packages for linear \n",
    "regression modelling.\n",
    "\n",
    "The basic idea is that if we can fit a linear regression model to observed data,\n",
    "we can then use the model to predict any future values. For example, \n",
    "let’s assume that we have found from historical data that the price (P) of a house is linearly dependent upon\n",
    "its size (S) — in fact, we found that a house’s price is exactly 90 times its size. The equation will look like this:\n",
    "\n",
    "P = 90*S\n",
    "\n",
    "\n",
    "With this model, we can then predict the cost of any house. If we have a house that is 1,500 square\n",
    "feet, we can calculate its price to be:\n",
    "\n",
    "P = 90*1500 = $135,000\n",
    "\n",
    "\n",
    "The basic concepts and mathematics behind the model\n",
    "How to implement linear regression from scratch using simulated data\n",
    "How to implement linear regression using statsmodels\n",
    "How to implement linear regression using scikit-learn\n",
    "\n",
    "\n",
    "There are two kinds of variables in a linear regression model:\n",
    "\n",
    "The input or predictor variable is the variable(s) that help predict the value of the output variable. It is commonly referred to as X.\n",
    "The output variable is the variable that we want to predict. It is commonly referred to as Y.\n",
    "To estimate Y using linear regression, we assume the equation:\n",
    "\n",
    "Yₑ = α + β X\n",
    "\n",
    "where Yₑ is the estimated or predicted value of Y based on our linear equation.\n",
    "\n",
    "Our goal is to find statistically significant values of the parameters α and β that minimise the difference between Y and Yₑ.\n",
    "\n",
    "If we are able to determine the optimum values of these two parameters,\n",
    "then we will have the line of best fit that we can use to predict the values of Y, given the value of X.\n",
    "\n",
    "\n",
    "\n",
    "The objective of the least squares method is to find values of α and β that minimise\n",
    "the sum of the squared difference between Y and Yₑ. We will not go through the derivation here,\n",
    "but using calculus we can show that the values of the unknown parameters .\n",
    "\n",
    "\n",
    "where X̄ is the mean of X values and Ȳ is the mean of Y values.\n",
    "\n",
    "If you are familiar with statistics, you may recognise β as simply\n",
    "Cov(X, Y) / Var(X).\n",
    "\n",
    "\n",
    "\n",
    "statsmodels — a module that provides classes and functions for the estimation of many different statistical models, as well as for conducting statistical tests, and statistical data exploration.\n",
    "scikit-learn — a module that provides simple and efficient tools for data mining and data analysis.\n",
    "Before we dive in, it is useful to understand how to implement the model from scratch. Knowing how the packages work behind the scenes is important so you are not just blindly implementing the models.\n",
    "\n",
    "To get started, let’s simulate some data and look at how the predicted values (Yₑ) differ from the actual value (Y):\n",
    "\"\"\""
   ]
  },
  {
   "cell_type": "code",
   "execution_count": 5,
   "id": "c14aa837",
   "metadata": {},
   "outputs": [
    {
     "name": "stdout",
     "output_type": "stream",
     "text": [
      "<bound method NDFrame.head of            X         Y\n",
      "0   6.615196  9.455363\n",
      "1   1.500590  1.028774\n",
      "2   3.670267  2.663460\n",
      "3   8.403349  9.336440\n",
      "4   7.003342  5.142655\n",
      "..       ...       ...\n",
      "95  2.649649  3.597435\n",
      "96  0.039375  3.185248\n",
      "97  6.697014  7.923166\n",
      "98  0.475920  5.577998\n",
      "99  1.507460  5.060014\n",
      "\n",
      "[100 rows x 2 columns]>\n"
     ]
    }
   ],
   "source": [
    "import pandas as pd\n",
    "import numpy as np\n",
    "import matplotlib.pyplot as plt\n",
    "import random\n",
    "\n",
    "np.random.seed(0)\n",
    "\n",
    "X    = 1.5*np.random.randn(100)*2.5  # Array of 100 values with mean 1.5 and stdev = 2.5\n",
    "res  = 1.5*np.random.randn(100)    # Generate 100 residual values\n",
    "Y    = 2+0.7*X+res\n",
    "\n",
    "#Create a dataframe using Pandas for X and Y\n",
    "\n",
    "df = pd.DataFrame(\n",
    "\n",
    "    {'X':X ,\n",
    "     'Y':Y   \n",
    "    }\n",
    "\n",
    ")\n",
    "\n",
    "\n",
    "print(df.head)\n"
   ]
  },
  {
   "cell_type": "code",
   "execution_count": 7,
   "id": "550daa1d",
   "metadata": {},
   "outputs": [
    {
     "name": "stdout",
     "output_type": "stream",
     "text": [
      "beta = 0.7458793734185525\n",
      "alpha = 2.1127296275787715\n"
     ]
    }
   ],
   "source": [
    "# I've calculated the beta and alpha two unknow parameters for Y prediction\n",
    "\n",
    "xmean = np.mean(X)\n",
    "ymean = np.mean(Y)\n",
    "\n",
    "df['CovX_Y'] = (df['X']-xmean)*(df['Y']-ymean)\n",
    "df['Var_X']  = (df['X'] - xmean)**2\n",
    "\n",
    "beta = df['CovX_Y'].sum()/df['Var_X'].sum()\n",
    "\n",
    "alpha = ymean - (beta*xmean)\n",
    "\n",
    "\n",
    "print(f'beta = {beta}')\n",
    "print(f'alpha = {alpha}')\n",
    "\n",
    "\n",
    "\n",
    "\n",
    "\n"
   ]
  },
  {
   "cell_type": "code",
   "execution_count": 9,
   "id": "6d958350",
   "metadata": {},
   "outputs": [
    {
     "name": "stdout",
     "output_type": "stream",
     "text": [
      "[ 7.0468681   3.23198841  4.85030641  8.38061469  7.33637832 -0.62076317\n",
      "  4.7701722   1.6893763   1.82402158  3.2611932   2.51562636  6.18040192\n",
      "  4.24138841  2.45306045  3.35423624  3.04603262  6.29173999  1.53889219\n",
      "  2.98839491 -0.27621685 -5.02810454  3.94093198  4.53059887  0.0368587\n",
      "  8.46134147 -1.95520047  2.24071838  1.58916748  6.39998613  6.22259612\n",
      "  2.54612496  3.17046821 -0.37044941 -3.42765248  1.13960277  2.55004514\n",
      "  5.55391129  5.47584336  1.02935806  1.26717443 -0.82012298 -1.85912821\n",
      " -2.6597894   7.56914136  0.68720819  0.88741493 -1.39139869  4.2874072\n",
      " -2.40141955  1.51768493 -0.39193301  3.19491435  0.68398332 -1.18955485\n",
      "  2.03390259  3.31079428  2.29878147  2.95875794  0.33850051  1.0981253\n",
      "  0.23182571  1.1070423  -0.16167927 -2.71576507  2.608999    0.9889292\n",
      " -2.44701283  3.40715365 -0.42502713  2.25802337  4.15203067  2.47350098\n",
      "  5.29968764 -1.34113703  3.23809837  0.19728317 -0.32293149  0.49365953\n",
      "  1.24130235  2.26982677 -1.14625     4.63238424  3.41520966 -2.18421717\n",
      "  6.27544193  7.41562199  5.40983226  1.60947129 -0.88221648  5.06208135\n",
      "  0.9850245   5.53196674  2.69528467  4.84443555  3.10950342  4.08904845\n",
      "  2.14209869  7.1078945   2.4677088   3.23711303]\n"
     ]
    }
   ],
   "source": [
    "#Now :let's predict the value of Y\n",
    "\n",
    "Y_prediction =  alpha+beta*X\n",
    "\n",
    "print(Y_prediction)\n",
    "\n",
    "\n"
   ]
  },
  {
   "cell_type": "code",
   "execution_count": 11,
   "id": "32cf8855",
   "metadata": {},
   "outputs": [
    {
     "data": {
      "image/png": "[encoded data removed]",
      "text/plain": [
       "<Figure size 1200x600 with 1 Axes>"
      ]
     },
     "metadata": {},
     "output_type": "display_data"
    },
    {
     "name": "stdout",
     "output_type": "stream",
     "text": [
      "None\n"
     ]
    }
   ],
   "source": [
    "#Now lets plot the data with Graph\n",
    "\n",
    "plt.figure(figsize = (12,6))\n",
    "\n",
    "plt.plot(X , Y_prediction)  # regression line\n",
    "plt.plot(X , Y , 'ro')  #Scatter plot using actual data\n",
    "\n",
    "plt.title('Actual vs Predicted Graph')\n",
    "\n",
    "plt.xlabel('X')\n",
    "plt.ylabel('Y')\n",
    "\n",
    "\n",
    "print(plt.show())\n",
    "\n"
   ]
  },
  {
   "cell_type": "code",
   "execution_count": 13,
   "id": "a94060bb",
   "metadata": {},
   "outputs": [
    {
     "name": "stdout",
     "output_type": "stream",
     "text": [
      "21.839999999999996\n"
     ]
    }
   ],
   "source": [
    "Yprediction = float(0.74) + float(2.11)*(10)\n",
    "\n",
    "print(Yprediction)               # With known  alpha and beta we have predicted the value of Y with respect to X = 10\n"
   ]
  },
  {
   "cell_type": "code",
   "execution_count": 48,
   "id": "3c013c6e",
   "metadata": {},
   "outputs": [
    {
     "name": "stdout",
     "output_type": "stream",
     "text": [
      "   YearsExperience  Salary\n",
      "0              1.1   39343\n",
      "1              1.3   46205\n",
      "2              1.5   37731\n",
      "3              2.0   43525\n",
      "4              2.2   39891\n",
      "5              2.9   56642\n",
      "6              3.0   60150\n",
      "7              3.2   54445\n",
      "8              3.2   64445\n",
      "9              3.7   57189\n"
     ]
    },
    {
     "ename": "AttributeError",
     "evalue": "'DataFrame' object has no attribute 'reshape'",
     "output_type": "error",
     "traceback": [
      "\u001b[1;31m---------------------------------------------------------------------------\u001b[0m",
      "\u001b[1;31mAttributeError\u001b[0m                            Traceback (most recent call last)",
      "Input \u001b[1;32mIn [48]\u001b[0m, in \u001b[0;36m<cell line: 4>\u001b[1;34m()\u001b[0m\n\u001b[0;32m      1\u001b[0m Salarydata \u001b[38;5;241m=\u001b[39m pd\u001b[38;5;241m.\u001b[39mread_csv(\u001b[38;5;124m'\u001b[39m\u001b[38;5;124mSalary_Data.csv\u001b[39m\u001b[38;5;124m'\u001b[39m)\n\u001b[0;32m      3\u001b[0m \u001b[38;5;28mprint\u001b[39m(Salarydata\u001b[38;5;241m.\u001b[39mhead(\u001b[38;5;241m10\u001b[39m))\n\u001b[1;32m----> 4\u001b[0m \u001b[38;5;28mprint\u001b[39m(\u001b[43mSalarydata\u001b[49m\u001b[38;5;241;43m.\u001b[39;49m\u001b[43mreshape\u001b[49m(\u001b[38;5;241m-\u001b[39m\u001b[38;5;241m1\u001b[39m,\u001b[38;5;241m1\u001b[39m))\n\u001b[0;32m      7\u001b[0m df1    \u001b[38;5;241m=\u001b[39m Salarydata[\u001b[38;5;124m'\u001b[39m\u001b[38;5;124mYearsExperience\u001b[39m\u001b[38;5;124m'\u001b[39m]\u001b[38;5;241m/\u001b[39m\u001b[38;5;241m8.5\u001b[39m\n\u001b[0;32m      8\u001b[0m df2    \u001b[38;5;241m=\u001b[39m Salarydata[\u001b[38;5;124m'\u001b[39m\u001b[38;5;124mSalary\u001b[39m\u001b[38;5;124m'\u001b[39m]\u001b[38;5;241m/\u001b[39m\u001b[38;5;241m456312\u001b[39m\n",
      "File \u001b[1;32m~\\anaconda3\\lib\\site-packages\\pandas\\core\\generic.py:5575\u001b[0m, in \u001b[0;36mNDFrame.__getattr__\u001b[1;34m(self, name)\u001b[0m\n\u001b[0;32m   5568\u001b[0m \u001b[38;5;28;01mif\u001b[39;00m (\n\u001b[0;32m   5569\u001b[0m     name \u001b[38;5;129;01mnot\u001b[39;00m \u001b[38;5;129;01min\u001b[39;00m \u001b[38;5;28mself\u001b[39m\u001b[38;5;241m.\u001b[39m_internal_names_set\n\u001b[0;32m   5570\u001b[0m     \u001b[38;5;129;01mand\u001b[39;00m name \u001b[38;5;129;01mnot\u001b[39;00m \u001b[38;5;129;01min\u001b[39;00m \u001b[38;5;28mself\u001b[39m\u001b[38;5;241m.\u001b[39m_metadata\n\u001b[0;32m   5571\u001b[0m     \u001b[38;5;129;01mand\u001b[39;00m name \u001b[38;5;129;01mnot\u001b[39;00m \u001b[38;5;129;01min\u001b[39;00m \u001b[38;5;28mself\u001b[39m\u001b[38;5;241m.\u001b[39m_accessors\n\u001b[0;32m   5572\u001b[0m     \u001b[38;5;129;01mand\u001b[39;00m \u001b[38;5;28mself\u001b[39m\u001b[38;5;241m.\u001b[39m_info_axis\u001b[38;5;241m.\u001b[39m_can_hold_identifiers_and_holds_name(name)\n\u001b[0;32m   5573\u001b[0m ):\n\u001b[0;32m   5574\u001b[0m     \u001b[38;5;28;01mreturn\u001b[39;00m \u001b[38;5;28mself\u001b[39m[name]\n\u001b[1;32m-> 5575\u001b[0m \u001b[38;5;28;01mreturn\u001b[39;00m \u001b[38;5;28;43mobject\u001b[39;49m\u001b[38;5;241;43m.\u001b[39;49m\u001b[38;5;21;43m__getattribute__\u001b[39;49m\u001b[43m(\u001b[49m\u001b[38;5;28;43mself\u001b[39;49m\u001b[43m,\u001b[49m\u001b[43m \u001b[49m\u001b[43mname\u001b[49m\u001b[43m)\u001b[49m\n",
      "\u001b[1;31mAttributeError\u001b[0m: 'DataFrame' object has no attribute 'reshape'"
     ]
    }
   ],
   "source": [
    "Salarydata = pd.read_csv('Salary_Data.csv')\n",
    "\n",
    "print(Salarydata.head(10))\n",
    "print(Salarydata.reshape(-1,1))\n",
    "\n",
    "\n",
    "df1    = Salarydata['YearsExperience']/8.5\n",
    "df2    = Salarydata['Salary']/456312\n",
    "\n",
    "print(df1)\n",
    "print(df2)\n"
   ]
  },
  {
   "cell_type": "code",
   "execution_count": 44,
   "id": "38d0da87",
   "metadata": {},
   "outputs": [
    {
     "name": "stdout",
     "output_type": "stream",
     "text": [
      "<statsmodels.regression.linear_model.RegressionResultsWrapper object at 0x0000020B29D74220>\n",
      "[0.07930354 0.08344543 0.08758732 0.09794203 0.10208392 0.11658052\n",
      " 0.11865146 0.12279335 0.12279335 0.13314807 0.13728995 0.1393609\n",
      " 0.1393609  0.14143184 0.14971561 0.15799939 0.16214127 0.16628316\n",
      " 0.17870882 0.18077976 0.19734731 0.20356014 0.22012768 0.22634051\n",
      " 0.23669523 0.24290806 0.25326277 0.25533372 0.26983032 0.2739722 ]\n",
      "[0.07930354 0.08344543 0.08758732 0.09794203 0.10208392 0.11658052\n",
      " 0.11865146 0.12279335 0.12279335 0.13314807 0.13728995 0.1393609\n",
      " 0.1393609  0.14143184 0.14971561 0.15799939 0.16214127 0.16628316\n",
      " 0.17870882 0.18077976 0.19734731 0.20356014 0.22012768 0.22634051\n",
      " 0.23669523 0.24290806 0.25326277 0.25533372 0.26983032 0.2739722 ]\n"
     ]
    }
   ],
   "source": [
    "import statsmodels.formula.api as smf\n",
    "\n",
    "model = smf.ols('df2~df1' , data=df1 )\n",
    "model2 = smf.ols('df2~df1' , data=df2 )\n",
    "model = model.fit()\n",
    "model2 = model2.fit()\n",
    "\n",
    "print(model)\n",
    "\n",
    "predict = model.predict()\n",
    "predict2 = model2.predict()\n",
    "print(predict)\n",
    "print(predict2)\n",
    "\n"
   ]
  },
  {
   "cell_type": "code",
   "execution_count": 53,
   "id": "4cf14de8",
   "metadata": {},
   "outputs": [
    {
     "name": "stdout",
     "output_type": "stream",
     "text": [
      "LinearRegression()\n",
      "LinearRegression()\n"
     ]
    }
   ],
   "source": [
    "# Now let's implement the Linear Regression Model using the Scikit-learn \n",
    "\n",
    "\n",
    "from sklearn.linear_model import LinearRegression\n",
    "\n",
    "# Build linear regression model using Salary and YearsExperience as predictors\n",
    "# Split data into predictors X and output Y\n",
    "predictors = ['Salary', 'YearsExperience']\n",
    "X = Salarydata[predictors]\n",
    "y = Salarydata['Salary']\n",
    "\n",
    "# Initialise and fit model\n",
    "lm = LinearRegression()\n",
    "model = lm.fit(X, y)\n",
    "\n",
    "print(lm)\n",
    "print(model)\n"
   ]
  },
  {
   "cell_type": "code",
   "execution_count": 54,
   "id": "86712e0e",
   "metadata": {},
   "outputs": [
    {
     "name": "stdout",
     "output_type": "stream",
     "text": [
      "alpha = 1.4551915228366852e-11\n",
      "betas = [ 1.00000000e+00 -2.51489117e-12]\n"
     ]
    }
   ],
   "source": [
    "\n",
    "print(f'alpha = {model.intercept_}')  # to find the value of alpha\n",
    "print(f'betas = {model.coef_}')     # to find the value of beta\n"
   ]
  },
  {
   "cell_type": "code",
   "execution_count": 55,
   "id": "aee6770c",
   "metadata": {},
   "outputs": [
    {
     "name": "stdout",
     "output_type": "stream",
     "text": [
      "[ 39343.  46205.  37731.  43525.  39891.  56642.  60150.  54445.  64445.\n",
      "  57189.  63218.  55794.  56957.  57081.  61111.  67938.  66029.  83088.\n",
      "  81363.  93940.  91738.  98273. 101302. 113812. 109431. 105582. 116969.\n",
      " 112635. 122391. 121872.]\n"
     ]
    }
   ],
   "source": [
    "print(model.predict(X))\n"
   ]
  },
  {
   "cell_type": "code",
   "execution_count": 57,
   "id": "d3f1564a",
   "metadata": {},
   "outputs": [
    {
     "name": "stdout",
     "output_type": "stream",
     "text": [
      "[300.]\n"
     ]
    },
    {
     "name": "stderr",
     "output_type": "stream",
     "text": [
      "C:\\Users\\hjha0\\anaconda3\\lib\\site-packages\\sklearn\\base.py:450: UserWarning: X does not have valid feature names, but LinearRegression was fitted with feature names\n",
      "  warnings.warn(\n"
     ]
    }
   ],
   "source": [
    "new_X = [[300, 200]]\n",
    "print(model.predict(new_X))"
   ]
  },
  {
   "cell_type": "markdown",
   "id": "228ddc96",
   "metadata": {},
   "source": [
    "Now let's Create Linear Regression Model using Scikit Learn\n",
    "\n"
   ]
  },
  {
   "cell_type": "code",
   "execution_count": 58,
   "id": "e853be30",
   "metadata": {},
   "outputs": [
    {
     "name": "stdout",
     "output_type": "stream",
     "text": [
      "coefficient of determination: 0.5417910447761193\n",
      "intercept: 4.026666666666667\n",
      "slope: [0.44]\n",
      "Predicted response:\n",
      "[ 6.66666667 11.06666667 15.46666667 19.86666667 24.26666667 28.66666667]\n"
     ]
    }
   ],
   "source": [
    "# Import the packages and classes needed in this example:\n",
    "import numpy as np\n",
    "from sklearn.linear_model import LinearRegression\n",
    "\n",
    "# Create a numpy array of data:\n",
    "x = np.array([6, 16, 26, 36, 46, 56]).reshape((-1, 1))\n",
    "y = np.array([4, 23, 10, 12, 22, 35])\n",
    "\n",
    "# Create an instance of a linear regression model and fit it to the data with the fit() function:\n",
    "model = LinearRegression().fit(x, y) \n",
    "\n",
    "# The following section will get results by interpreting the created instance: \n",
    "\n",
    "# Obtain the coefficient of determination by calling the model with the score() function, then print the coefficient:\n",
    "r_sq = model.score(x, y)\n",
    "print('coefficient of determination:', r_sq)\n",
    "\n",
    "# Print the Intercept:\n",
    "print('intercept:', model.intercept_)\n",
    "\n",
    "# Print the Slope:\n",
    "print('slope:', model.coef_) \n",
    "\n",
    "# Predict a Response and print it:\n",
    "y_pred = model.predict(x)\n",
    "print('Predicted response:', y_pred, sep='\\n')"
   ]
  },
  {
   "cell_type": "code",
   "execution_count": 59,
   "id": "38eaee6a",
   "metadata": {},
   "outputs": [
    {
     "data": {
      "image/png": "[encoded data removed]",
      "text/plain": [
       "<Figure size 640x480 with 1 Axes>"
      ]
     },
     "metadata": {},
     "output_type": "display_data"
    },
    {
     "data": {
      "image/png": "[encoded data removed]",
      "text/plain": [
       "<Figure size 640x480 with 1 Axes>"
      ]
     },
     "metadata": {},
     "output_type": "display_data"
    }
   ],
   "source": [
    "# Import the packages and classes needed for this example:\n",
    "import numpy as np\n",
    "import matplotlib.pyplot as plt\n",
    "from sklearn.linear_model import LinearRegression\n",
    "\n",
    "# Create random data with numpy, and plot it with matplotlib:\n",
    "rnstate = np.random.RandomState(1)\n",
    "x = 10 * rnstate.rand(50)\n",
    "y = 2 * x - 5 + rnstate.randn(50)\n",
    "plt.scatter(x, y);\n",
    "plt.show()\n",
    "\n",
    "# Create a linear regression model based the positioning of the data and Intercept, and predict a Best Fit:\n",
    "model = LinearRegression(fit_intercept=True)\n",
    "model.fit(x[:, np.newaxis], y)\n",
    "xfit = np.linspace(0, 10, 1000)\n",
    "yfit = model.predict(xfit[:, np.newaxis])\n",
    "\n",
    "# Plot the estimated linear regression line with matplotlib:\n",
    "plt.scatter(x, y)\n",
    "plt.plot(xfit, yfit);\n",
    "plt.show()"
   ]
  },
  {
   "cell_type": "code",
   "execution_count": null,
   "id": "b54d2abb",
   "metadata": {},
   "outputs": [],
   "source": []
  }
 ],
 "metadata": {
  "kernelspec": {
   "display_name": "Python 3 (ipykernel)",
   "language": "python",
   "name": "python3"
  },
  "language_info": {
   "codemirror_mode": {
    "name": "ipython",
    "version": 3
   },
   "file_extension": ".py",
   "mimetype": "text/x-python",
   "name": "python",
   "nbconvert_exporter": "python",
   "pygments_lexer": "ipython3",
   "version": "3.9.7"
  }
 },
 "nbformat": 4,
 "nbformat_minor": 5
}
